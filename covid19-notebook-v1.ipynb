{
 "cells": [
  {
   "cell_type": "markdown",
   "id": "c36cb9e0",
   "metadata": {
    "lang": "en"
   },
   "source": [
    "# Covid 19 Identification with Chest X Ray\n"
   ]
  },
  {
   "cell_type": "markdown",
   "id": "552370cc",
   "metadata": {},
   "source": [
    "# Dataset\n",
    "\n",
    "### Total Covid19 Positive images 4100\n",
    "### Total Covid19 Negative images ( Pneumonia + Normal ) 5362\n",
    "\n",
    "\n",
    "## Credits and Links to open source dataset\n",
    "\n",
    "1. [Covid Chest X Ray Dataset](https://github.com/ieee8023/covid-chestxray-dataset)\n",
    "2. [Pneumonia dataset by Praveen](https://www.kaggle.com/praveengovi/coronahack-chest-xraydataset)\n",
    "3. [COVID19 chest XRAY analysis by SAIMANASA_C](https://www.kaggle.com/code/saimanasachadalavada/covid19-chest-xray-analysis/data)\n",
    "4. [COVID19 with Pneumonia and Normal Chest Xray(PA) Dataset by AMANULLAH ASRAF](https://www.kaggle.com/datasets/amanullahasraf/covid19-pneumonia-normal-chest-xray-pa-dataset)\n",
    "5. [HASH_Directors - Covid19 by AMRUTH AMBRISH K](https://www.kaggle.com/code/amruthambrish/hash-directors-covid19/data)\n",
    "6. [RICORD COVID-19 X-ray positive tests by RADDAR](https://www.kaggle.com/datasets/raddar/ricord-covid19-xray-positive-tests)\n",
    "\n",
    "\n",
    "\n",
    "Created By Lalith Kahatapitiya at [PGIS](http://www.pgis.pdn.ac.lk/) - University of Peradeniya\n"
   ]
  },
  {
   "cell_type": "markdown",
   "id": "9e34ff40",
   "metadata": {},
   "source": [
    "   ### Required phython packages and libraries "
   ]
  },
  {
   "cell_type": "code",
   "execution_count": 1,
   "id": "79281d15",
   "metadata": {
    "ExecuteTime": {
     "end_time": "2022-10-18T04:58:04.215270Z",
     "start_time": "2022-10-18T04:58:03.931214Z"
    },
    "run_control": {
     "marked": false
    }
   },
   "outputs": [
    {
     "ename": "ModuleNotFoundError",
     "evalue": "No module named 'tensorflow'",
     "output_type": "error",
     "traceback": [
      "\u001b[0;31m---------------------------------------------------------------------------\u001b[0m",
      "\u001b[0;31mModuleNotFoundError\u001b[0m                       Traceback (most recent call last)",
      "Input \u001b[0;32mIn [1]\u001b[0m, in \u001b[0;36m<cell line: 6>\u001b[0;34m()\u001b[0m\n\u001b[1;32m      3\u001b[0m \u001b[38;5;28;01mimport\u001b[39;00m \u001b[38;5;21;01mos\u001b[39;00m\n\u001b[1;32m      4\u001b[0m \u001b[38;5;28;01mimport\u001b[39;00m \u001b[38;5;21;01mdatetime\u001b[39;00m\n\u001b[0;32m----> 6\u001b[0m \u001b[38;5;28;01mimport\u001b[39;00m \u001b[38;5;21;01mtensorflow\u001b[39;00m\u001b[38;5;21;01m.\u001b[39;00m\u001b[38;5;21;01mkeras\u001b[39;00m\n\u001b[1;32m      7\u001b[0m \u001b[38;5;28;01mimport\u001b[39;00m \u001b[38;5;21;01mtensorflow\u001b[39;00m \u001b[38;5;28;01mas\u001b[39;00m \u001b[38;5;21;01mtf\u001b[39;00m\n\u001b[1;32m      8\u001b[0m \u001b[38;5;28;01mimport\u001b[39;00m \u001b[38;5;21;01mpandas\u001b[39;00m \u001b[38;5;28;01mas\u001b[39;00m \u001b[38;5;21;01mpd\u001b[39;00m\n",
      "\u001b[0;31mModuleNotFoundError\u001b[0m: No module named 'tensorflow'"
     ]
    }
   ],
   "source": [
    "\n",
    "import sys\n",
    "import platform\n",
    "import os\n",
    "import datetime\n",
    "\n",
    "import tensorflow.keras\n",
    "import tensorflow as tf\n",
    "import pandas as pd\n",
    "import sklearn as sk\n",
    "import numpy as np\n",
    "\n",
    "import cv2\n",
    "\n",
    "print(f\"Python Platform: {platform.platform()}\")\n",
    "print(f\"Python {sys.version}\")\n",
    "print()\n",
    "print(f\"Tensor Flow Version: {tf.__version__}\")\n",
    "print(f\"Keras Version: {tensorflow.keras.__version__}\")\n",
    "print(f\"Pandas {pd.__version__}\")\n",
    "print(f\"Scikit-Learn {sk.__version__}\")\n",
    "print(f\"Numpy {np.__version__}\")\n",
    "print(f\"Open CV {cv2.__version__}\")\n",
    "print()\n",
    "gpu = len(tf.config.list_physical_devices('GPU'))>0\n",
    "print(\"GPU is\", \"available\" if gpu else \"NOT AVAILABLE\")"
   ]
  },
  {
   "cell_type": "code",
   "execution_count": null,
   "id": "c3080153",
   "metadata": {
    "ExecuteTime": {
     "end_time": "2022-10-18T04:58:04.219625Z",
     "start_time": "2022-10-18T04:58:04.219619Z"
    },
    "run_control": {
     "marked": false
    }
   },
   "outputs": [],
   "source": [
    "# image data set_path mapping check folder names\n",
    "dataset_path = 'TRAINING'\n",
    "\n",
    "categories = os.listdir(dataset_path)\n",
    "print(categories)"
   ]
  },
  {
   "cell_type": "code",
   "execution_count": null,
   "id": "76d9eb9e",
   "metadata": {
    "ExecuteTime": {
     "end_time": "2022-10-18T04:58:04.220351Z",
     "start_time": "2022-10-18T04:58:04.220344Z"
    },
    "run_control": {
     "marked": false
    }
   },
   "outputs": [],
   "source": [
    "# image data load to dictionary\n",
    "\n",
    "categories_all = os.listdir(dataset_path)\n",
    "categories = []\n",
    "for category in categories_all:\n",
    "    if (category != \".DS_Store\"):\n",
    "        categories.append(category)\n",
    "\n",
    "labels = [i for i in range(len(categories))]\n",
    "\n",
    "label_dict = dict(zip(categories, labels))  # empty dictionary\n",
    "\n",
    "print(label_dict)\n",
    "print(categories)\n",
    "print(labels)"
   ]
  },
  {
   "cell_type": "code",
   "execution_count": null,
   "id": "29209e12",
   "metadata": {
    "ExecuteTime": {
     "end_time": "2022-10-18T04:58:04.221066Z",
     "start_time": "2022-10-18T04:58:04.221060Z"
    },
    "run_control": {
     "marked": false
    }
   },
   "outputs": [],
   "source": [
    "img_size=224\n",
    "data=[]\n",
    "target=[]\n",
    "\n",
    "\n",
    "for category in categories:\n",
    "    folder_path=os.path.join(dataset_path,category)\n",
    "    img_names=os.listdir(folder_path)\n",
    "\n",
    "    for img_name in img_names:\n",
    "        img_path=os.path.join(folder_path,img_name)\n",
    "        img=cv2.imread(img_path)\n",
    "\n",
    "        try:\n",
    "            gray=cv2.cvtColor(img,cv2.COLOR_BGR2GRAY)           \n",
    "                #Coverting the image into gray scale\n",
    "            resized=cv2.resize(gray,(img_size,img_size))\n",
    "                #resizing the gray scale into 224x224, since we need a fixed common size for all the images in the dataset\n",
    "            data.append(resized)\n",
    "            target.append(label_dict[category])\n",
    "                #appending the image and the label(categorized) into the list (dataset)\n",
    "\n",
    "        except Exception as e:\n",
    "             print('Exception:',e)\n",
    "                #if any exception rasied, the exception will be printed here. And pass to the next image  \n",
    "      "
   ]
  },
  {
   "cell_type": "code",
   "execution_count": null,
   "id": "2c721509",
   "metadata": {
    "ExecuteTime": {
     "end_time": "2022-10-18T04:58:04.221913Z",
     "start_time": "2022-10-18T04:58:04.221905Z"
    },
    "run_control": {
     "marked": false
    }
   },
   "outputs": [],
   "source": [
    "data=np.array(data)/255.0\n",
    "data=np.reshape(data,(data.shape[0],img_size,img_size,1))\n",
    "target=np.array(target)\n",
    "\n",
    "from keras.utils import np_utils\n",
    "\n",
    "new_target=np_utils.to_categorical(target)\n",
    "\n",
    "# standard binary file format in NumPy for persisting a single arbitrary NumPy array on disk.\n",
    "np.save('data',data)\n",
    "np.save('target',new_target)\n",
    "\n",
    "print(f\"Data shape : {data.shape} \\nTarget shape : {target.shape} \\nNew Target shape : {new_target.shape}\")\n",
    "\n"
   ]
  },
  {
   "cell_type": "code",
   "execution_count": null,
   "id": "55a07035",
   "metadata": {
    "ExecuteTime": {
     "end_time": "2022-10-18T04:58:04.222711Z",
     "start_time": "2022-10-18T04:58:04.222703Z"
    },
    "run_control": {
     "marked": false
    }
   },
   "outputs": [],
   "source": [
    "\n",
    "from keras.models import Sequential,Model\n",
    "from keras.layers import Dense, Dropout, Flatten\n",
    "from keras.layers import Conv2D,Activation,MaxPooling2D\n",
    "from keras.utils import normalize\n",
    "from keras.layers import Concatenate\n",
    "from keras import Input\n",
    "from keras.callbacks import ModelCheckpoint\n",
    "\n",
    "data=np.load('data.npy')\n",
    "target=np.load('target.npy')\n",
    "\n",
    "print(data.shape)\n",
    "print(target.shape)\n",
    "\n",
    "\n",
    "input_shape=data.shape[1:] #50,50,1\n",
    "inp=Input(shape=input_shape)\n",
    "convs=[]\n",
    "\n",
    "parrallel_kernels=[3,5,7]\n",
    "\n",
    "for k in range(len(parrallel_kernels)):\n",
    "    if(k !=0):\n",
    "        conv = Conv2D(128, kernel_size = k,padding = 'same' ,activation='relu')(inp)\n",
    "\n",
    "        convs.append(conv)\n",
    "\n",
    "out = Concatenate()(convs)\n",
    "conv_model = Model(inp, out)\n",
    "\n",
    "model = Sequential()\n",
    "model.add(conv_model)\n",
    "\n",
    "model.add(Conv2D(64,(3,3)))\n",
    "model.add(Activation('relu'))\n",
    "model.add(MaxPooling2D(pool_size=(2,2)))\n",
    "\n",
    "model.add(Conv2D(32,(3,3)))\n",
    "model.add(Activation('relu'))\n",
    "model.add(MaxPooling2D(pool_size=(2,2)))\n",
    "\n",
    "model.add(Flatten())\n",
    "model.add(Dropout(0.5))\n",
    "model.add(Dense(128,activation='relu'))\n",
    "model.add(Dropout(0.5))\n",
    "model.add(Dense(64,activation='relu'))\n",
    "model.add(Dropout(0.5))\n",
    "model.add(Dense(2,input_dim=128,activation='softmax'))\n",
    "model.compile(loss='categorical_crossentropy',optimizer='adam',metrics=['accuracy'])\n",
    "\n",
    "model.summary()"
   ]
  },
  {
   "cell_type": "code",
   "execution_count": null,
   "id": "65e44b6d",
   "metadata": {},
   "outputs": [],
   "source": [
    "# plot model as image\n",
    "tf.keras.utils.plot(model, to_file=\"model-one.png\",show_shapes=True)"
   ]
  },
  {
   "cell_type": "code",
   "execution_count": null,
   "id": "e8e8f259",
   "metadata": {
    "ExecuteTime": {
     "end_time": "2022-10-18T04:58:04.223468Z",
     "start_time": "2022-10-18T04:58:04.223462Z"
    },
    "run_control": {
     "marked": false
    }
   },
   "outputs": [],
   "source": [
    "from sklearn.model_selection import train_test_split\n",
    "\n",
    "train_data,test_data,train_target,test_target=train_test_split(data,target,test_size=0.4)\n",
    "\n",
    "print(type (train_data))\n"
   ]
  },
  {
   "cell_type": "code",
   "execution_count": null,
   "id": "57e78c3f",
   "metadata": {
    "ExecuteTime": {
     "end_time": "2022-10-18T04:58:04.223907Z",
     "start_time": "2022-10-18T04:58:04.223901Z"
    },
    "run_control": {
     "marked": false
    }
   },
   "outputs": [],
   "source": [
    "print(f\"Start checkpoint creation:{datetime.datetime.now()}\")\n",
    "checkpoint = ModelCheckpoint('model-{epoch:03d}.model',\n",
    "                             monitor='val_accuracy',\n",
    "                             verbose=1,\n",
    "                             save_best_only=True,\n",
    "                             mode='max')\n",
    "\n",
    "\n",
    "history=model.fit(train_data,\n",
    "                  train_target,\n",
    "                  epochs=20,\n",
    "                  callbacks=[checkpoint],\n",
    "                  validation_split=0.1)\n",
    "print(f\"End checkpoint creation:{datetime.datetime.now()}\")"
   ]
  },
  {
   "cell_type": "markdown",
   "id": "1c25d53b",
   "metadata": {},
   "source": [
    "# Graph Floting area\n"
   ]
  },
  {
   "cell_type": "markdown",
   "id": "3979c728",
   "metadata": {},
   "source": [
    "### Floting values in to graph"
   ]
  },
  {
   "cell_type": "code",
   "execution_count": null,
   "id": "86ec67a6",
   "metadata": {
    "ExecuteTime": {
     "end_time": "2022-10-18T04:58:04.224692Z",
     "start_time": "2022-10-18T04:58:04.224686Z"
    },
    "run_control": {
     "marked": false
    }
   },
   "outputs": [],
   "source": [
    "# floting values in to graph\n",
    "from matplotlib import pyplot as plt\n",
    "import seaborn as sns\n",
    "sns.set()\n",
    "acc = history.history['accuracy']\n",
    "val_acc = history.history['val_accuracy']\n",
    "loss = history.history['loss']\n",
    "val_loss = history.history['val_loss']\n",
    "\n",
    "epochs = range(0,len(acc))\n",
    "fig = plt.gcf()\n",
    "fig.set_size_inches(16, 8)\n",
    "\n",
    "plt.plot(epochs, acc, 'r', label='Training accuracy',marker = \"o\")\n",
    "plt.plot(epochs, val_acc, 'b', label='Validation accuracy',marker = \"o\")\n",
    "plt.title('Training and validation accuracy')\n",
    "plt.xticks(np.arange(0, len(acc), 10))\n",
    "plt.legend(loc=0)\n",
    "plt.figure()\n",
    "\n",
    "fig = plt.gcf()\n",
    "fig.set_size_inches(16, 8)\n",
    "plt.plot(epochs, loss, 'r', label='Training Loss',marker = \"o\")\n",
    "plt.plot(epochs, val_loss, 'b', label='Validation Loss',marker = \"o\")\n",
    "plt.title('Training and validation Loss')\n",
    "plt.xticks(np.arange(0, len(acc), 10))\n",
    "plt.legend(loc=0)\n",
    "#plt.savefig('Multiclass Model .png')\n",
    "plt.figure()\n",
    "plt.show()"
   ]
  },
  {
   "cell_type": "code",
   "execution_count": null,
   "id": "bc73f111",
   "metadata": {
    "ExecuteTime": {
     "end_time": "2022-10-18T04:58:04.225365Z",
     "start_time": "2022-10-18T04:58:04.225357Z"
    },
    "run_control": {
     "marked": false
    }
   },
   "outputs": [],
   "source": [
    "print(model.evaluate(test_data,test_target))"
   ]
  },
  {
   "cell_type": "code",
   "execution_count": null,
   "id": "9dbfb1aa",
   "metadata": {
    "ExecuteTime": {
     "end_time": "2022-10-18T04:58:04.226266Z",
     "start_time": "2022-10-18T04:58:04.226259Z"
    },
    "run_control": {
     "marked": false
    }
   },
   "outputs": [],
   "source": [
    "print(model.evaluate(test_data,test_target))"
   ]
  },
  {
   "cell_type": "code",
   "execution_count": null,
   "id": "b5ca6f6a",
   "metadata": {
    "ExecuteTime": {
     "end_time": "2022-10-18T04:58:04.226975Z",
     "start_time": "2022-10-18T04:58:04.226969Z"
    },
    "run_control": {
     "marked": false
    },
    "scrolled": true
   },
   "outputs": [],
   "source": [
    "model.save(\"covid.h5\")"
   ]
  }
 ],
 "metadata": {
  "gist": {
   "data": {
    "description": "Desktop/Independent Study/FINAL CUT/Covid-19-Identification-with-Chest-X-Ray/covid19-notebook.ipynb",
    "public": false
   },
   "id": ""
  },
  "hide_input": false,
  "kernelspec": {
   "display_name": "Python 3 (ipykernel)",
   "language": "python",
   "name": "python3"
  },
  "language_info": {
   "codemirror_mode": {
    "name": "ipython",
    "version": 3
   },
   "file_extension": ".py",
   "mimetype": "text/x-python",
   "name": "python",
   "nbconvert_exporter": "python",
   "pygments_lexer": "ipython3",
   "version": "3.9.13"
  },
  "nbTranslate": {
   "displayLangs": [
    "*"
   ],
   "hotkey": "alt-t",
   "langInMainMenu": true,
   "sourceLang": "en",
   "targetLang": "fr",
   "useGoogleTranslate": true
  },
  "toc": {
   "base_numbering": 1,
   "nav_menu": {},
   "number_sections": true,
   "sideBar": true,
   "skip_h1_title": false,
   "title_cell": "Table of Contents",
   "title_sidebar": "Contents",
   "toc_cell": false,
   "toc_position": {},
   "toc_section_display": true,
   "toc_window_display": false
  },
  "varInspector": {
   "cols": {
    "lenName": 16,
    "lenType": 16,
    "lenVar": 40
   },
   "kernels_config": {
    "python": {
     "delete_cmd_postfix": "",
     "delete_cmd_prefix": "del ",
     "library": "var_list.py",
     "varRefreshCmd": "print(var_dic_list())"
    },
    "r": {
     "delete_cmd_postfix": ") ",
     "delete_cmd_prefix": "rm(",
     "library": "var_list.r",
     "varRefreshCmd": "cat(var_dic_list()) "
    }
   },
   "types_to_exclude": [
    "module",
    "function",
    "builtin_function_or_method",
    "instance",
    "_Feature"
   ],
   "window_display": false
  }
 },
 "nbformat": 4,
 "nbformat_minor": 5
}
