{
 "cells": [
  {
   "cell_type": "markdown",
   "id": "c36cb9e0",
   "metadata": {
    "lang": "en"
   },
   "source": [
    "# Covid 19 Identification with Chest X Ray\n"
   ]
  },
  {
   "cell_type": "markdown",
   "id": "552370cc",
   "metadata": {},
   "source": [
    "# Dataset\n",
    "\n",
    "### Total Covid19 Positive images 4100\n",
    "### Total Covid19 Negative images ( Pneumonia + Normal ) 5362\n",
    "\n",
    "\n",
    "\n",
    "\n",
    "\n",
    "\n",
    "\n",
    "## Credits and Links to open source dataset\n",
    "\n",
    "1. [Covid Chest X Ray Dataset](https://github.com/ieee8023/covid-chestxray-dataset)\n",
    "2. [Pneumonia dataset by Praveen](https://www.kaggle.com/praveengovi/coronahack-chest-xraydataset)\n",
    "3. [COVID19 chest XRAY analysis by SAIMANASA_C](https://www.kaggle.com/code/saimanasachadalavada/covid19-chest-xray-analysis/data)\n",
    "4. [COVID19 with Pneumonia and Normal Chest Xray(PA) Dataset by AMANULLAH ASRAF](https://www.kaggle.com/datasets/amanullahasraf/covid19-pneumonia-normal-chest-xray-pa-dataset)\n",
    "5. [HASH_Directors - Covid19 by AMRUTH AMBRISH K](https://www.kaggle.com/code/amruthambrish/hash-directors-covid19/data)\n",
    "6. [RICORD COVID-19 X-ray positive tests by RADDAR](https://www.kaggle.com/datasets/raddar/ricord-covid19-xray-positive-tests)\n",
    "\n",
    "\n",
    "\n",
    "Created By Lalith Kahatapitiya at [PGIS](http://www.pgis.pdn.ac.lk/) - University of Peradeniya\n"
   ]
  },
  {
   "cell_type": "code",
   "execution_count": 45,
   "id": "0de788d1",
   "metadata": {
    "ExecuteTime": {
     "end_time": "2022-10-20T08:30:20.651692Z",
     "start_time": "2022-10-20T08:30:20.171468Z"
    },
    "hide_input": false
   },
   "outputs": [
    {
     "name": "stdout",
     "output_type": "stream",
     "text": [
      "# conda environments:\r\n",
      "#\r\n",
      "base                     /Users/lalithk90/opt/miniconda3\r\n",
      "tensorflow            *  /Users/lalithk90/opt/miniconda3/envs/tensorflow\r\n",
      "yto                      /Users/lalithk90/opt/miniconda3/envs/yto\r\n",
      "\r\n"
     ]
    }
   ],
   "source": [
    "!conda info --envs"
   ]
  },
  {
   "cell_type": "code",
   "execution_count": 46,
   "id": "e5af8339",
   "metadata": {
    "ExecuteTime": {
     "end_time": "2022-10-20T08:30:21.183555Z",
     "start_time": "2022-10-20T08:30:20.654574Z"
    }
   },
   "outputs": [
    {
     "name": "stdout",
     "output_type": "stream",
     "text": [
      "Package                       Version\r\n",
      "----------------------------- -----------\r\n",
      "absl-py                       1.2.0\r\n",
      "appnope                       0.1.3\r\n",
      "argon2-cffi                   21.3.0\r\n",
      "argon2-cffi-bindings          21.2.0\r\n",
      "asttokens                     2.0.8\r\n",
      "astunparse                    1.6.3\r\n",
      "attrs                         22.1.0\r\n",
      "autopep8                      1.7.0\r\n",
      "backcall                      0.2.0\r\n",
      "backports.functools-lru-cache 1.6.4\r\n",
      "bayesian-optimization         1.2.0\r\n",
      "beautifulsoup4                4.11.1\r\n",
      "bleach                        5.0.1\r\n",
      "boto3                         1.24.88\r\n",
      "botocore                      1.27.88\r\n",
      "brotlipy                      0.7.0\r\n",
      "cached-property               1.5.2\r\n",
      "cachetools                    5.2.0\r\n",
      "certifi                       2022.9.24\r\n",
      "cffi                          1.15.1\r\n",
      "charset-normalizer            2.1.1\r\n",
      "click                         8.1.3\r\n",
      "cloudpickle                   2.2.0\r\n",
      "colorama                      0.4.5\r\n",
      "contourpy                     1.0.5\r\n",
      "cryptography                  38.0.1\r\n",
      "cycler                        0.11.0\r\n",
      "debugpy                       1.6.3\r\n",
      "decorator                     5.1.1\r\n",
      "defusedxml                    0.7.1\r\n",
      "entrypoints                   0.4\r\n",
      "executing                     1.1.0\r\n",
      "fastjsonschema                2.16.2\r\n",
      "Flask                         2.2.2\r\n",
      "flatbuffers                   22.9.24\r\n",
      "flit_core                     3.7.1\r\n",
      "fonttools                     4.37.4\r\n",
      "gast                          0.4.0\r\n",
      "google-auth                   2.12.0\r\n",
      "google-auth-oauthlib          0.4.6\r\n",
      "google-pasta                  0.2.0\r\n",
      "graphviz                      0.20.1\r\n",
      "grpcio                        1.46.3\r\n",
      "gym                           0.26.2\r\n",
      "gym-notices                   0.0.8\r\n",
      "h5py                          3.6.0\r\n",
      "idna                          3.4\r\n",
      "importlib-metadata            4.11.4\r\n",
      "importlib-resources           5.9.0\r\n",
      "ipykernel                     6.16.0\r\n",
      "ipython                       8.5.0\r\n",
      "ipython-genutils              0.2.0\r\n",
      "ipywidgets                    8.0.2\r\n",
      "itsdangerous                  2.1.2\r\n",
      "jedi                          0.17.2\r\n",
      "Jinja2                        3.1.2\r\n",
      "jmespath                      1.0.1\r\n",
      "joblib                        1.2.0\r\n",
      "jsonschema                    4.16.0\r\n",
      "jupyter                       1.0.0\r\n",
      "jupyter_client                7.3.5\r\n",
      "jupyter-console               6.4.4\r\n",
      "jupyter_core                  4.11.1\r\n",
      "jupyter-tabnine               1.2.3\r\n",
      "jupyterlab-pygments           0.2.2\r\n",
      "jupyterlab-widgets            3.0.3\r\n",
      "kaggle                        1.5.12\r\n",
      "keras                         2.10.0\r\n",
      "Keras-Preprocessing           1.1.2\r\n",
      "kiwisolver                    1.4.4\r\n",
      "libclang                      14.0.6\r\n",
      "lxml                          4.9.1\r\n",
      "Markdown                      3.4.1\r\n",
      "MarkupSafe                    2.1.1\r\n",
      "matplotlib                    3.6.0\r\n",
      "matplotlib-inline             0.1.6\r\n",
      "mistune                       2.0.4\r\n",
      "munkres                       1.1.4\r\n",
      "nbclient                      0.7.0\r\n",
      "nbconvert                     7.2.1\r\n",
      "nbformat                      5.6.1\r\n",
      "nest-asyncio                  1.5.6\r\n",
      "notebook                      6.4.12\r\n",
      "numpy                         1.23.2\r\n",
      "oauthlib                      3.2.1\r\n",
      "opencv-python                 4.6.0.66\r\n",
      "opt-einsum                    3.3.0\r\n",
      "packaging                     21.3\r\n",
      "pandas                        1.5.0\r\n",
      "pandas-datareader             0.10.0\r\n",
      "pandocfilters                 1.5.0\r\n",
      "parso                         0.7.1\r\n",
      "pexpect                       4.8.0\r\n",
      "pickleshare                   0.7.5\r\n",
      "Pillow                        9.2.0\r\n",
      "pip                           22.2.2\r\n",
      "pkgutil_resolve_name          1.3.10\r\n",
      "pluggy                        1.0.0\r\n",
      "prometheus-client             0.14.1\r\n",
      "prompt-toolkit                3.0.31\r\n",
      "protobuf                      3.19.4\r\n",
      "psutil                        5.9.2\r\n",
      "ptyprocess                    0.7.0\r\n",
      "pure-eval                     0.2.2\r\n",
      "pyasn1                        0.4.8\r\n",
      "pyasn1-modules                0.2.8\r\n",
      "pycodestyle                   2.9.1\r\n",
      "pycparser                     2.21\r\n",
      "pydot                         1.4.2\r\n",
      "Pygments                      2.13.0\r\n",
      "pyOpenSSL                     22.0.0\r\n",
      "pyparsing                     3.0.9\r\n",
      "pyrsistent                    0.18.1\r\n",
      "PySocks                       1.7.1\r\n",
      "python-dateutil               2.8.2\r\n",
      "python-jsonrpc-server         0.4.0\r\n",
      "python-language-server        0.36.2\r\n",
      "python-slugify                6.1.2\r\n",
      "pytz                          2022.4\r\n",
      "PyYAML                        6.0\r\n",
      "pyzmq                         24.0.1\r\n",
      "requests                      2.28.1\r\n",
      "requests-oauthlib             1.3.1\r\n",
      "rsa                           4.9\r\n",
      "s3transfer                    0.6.0\r\n",
      "scikit-learn                  1.1.2\r\n",
      "scipy                         1.9.1\r\n",
      "seaborn                       0.12.0\r\n",
      "Send2Trash                    1.8.0\r\n",
      "setuptools                    65.4.1\r\n",
      "six                           1.16.0\r\n",
      "soupsieve                     2.3.2.post1\r\n",
      "stack-data                    0.5.1\r\n",
      "tensorboard                   2.10.1\r\n",
      "tensorboard-data-server       0.6.1\r\n",
      "tensorboard-plugin-wit        1.8.1\r\n",
      "tensorflow-estimator          2.10.0\r\n",
      "tensorflow-macos              2.10.0\r\n",
      "tensorflow-metal              0.6.0\r\n",
      "termcolor                     2.0.1\r\n",
      "terminado                     0.16.0\r\n",
      "text-unidecode                1.3\r\n",
      "threadpoolctl                 3.1.0\r\n",
      "tinycss2                      1.1.1\r\n",
      "toml                          0.10.2\r\n",
      "tornado                       6.2\r\n",
      "tqdm                          4.64.1\r\n",
      "traitlets                     5.4.0\r\n",
      "typing_extensions             4.4.0\r\n",
      "ujson                         5.5.0\r\n",
      "unicodedata2                  14.0.0\r\n",
      "urllib3                       1.26.11\r\n",
      "wcwidth                       0.2.5\r\n",
      "webencodings                  0.5.1\r\n",
      "Werkzeug                      2.2.2\r\n",
      "wheel                         0.37.1\r\n",
      "widgetsnbextension            4.0.3\r\n",
      "wrapt                         1.14.1\r\n",
      "zipp                          3.8.1\r\n"
     ]
    }
   ],
   "source": [
    "!pip list"
   ]
  },
  {
   "cell_type": "markdown",
   "id": "9e34ff40",
   "metadata": {},
   "source": [
    "   # Required phython packages and libraries "
   ]
  },
  {
   "cell_type": "code",
   "execution_count": 47,
   "id": "79281d15",
   "metadata": {
    "ExecuteTime": {
     "end_time": "2022-10-20T08:30:21.192788Z",
     "start_time": "2022-10-20T08:30:21.186232Z"
    },
    "hide_input": false,
    "run_control": {
     "marked": false
    }
   },
   "outputs": [
    {
     "name": "stdout",
     "output_type": "stream",
     "text": [
      "Python Platform: macOS-12.6-arm64-arm-64bit\n",
      "Python 3.9.13 | packaged by conda-forge | (main, May 27 2022, 17:00:33) \n",
      "[Clang 13.0.1 ]\n",
      "\n",
      "Tensor Flow Version: 2.10.0\n",
      "Keras Version: 2.10.0\n",
      "Pandas 1.5.0\n",
      "Scikit-Learn 1.1.2\n",
      "Numpy 1.23.2\n",
      "Open CV 4.6.0\n",
      "\n",
      "GPU is available\n"
     ]
    }
   ],
   "source": [
    "import sys\n",
    "import platform\n",
    "import os\n",
    "import datetime\n",
    "import pytz\n",
    "timezone = pytz.timezone(\"Asia/Colombo\")\n",
    "import random\n",
    "\n",
    "import tensorflow.keras\n",
    "import tensorflow as tf\n",
    "import pandas as pd\n",
    "import sklearn as sk\n",
    "import numpy as np\n",
    "\n",
    "import cv2\n",
    "\n",
    "print(f\"Python Platform: {platform.platform()}\")\n",
    "print(f\"Python {sys.version}\")\n",
    "print()\n",
    "print(f\"Tensor Flow Version: {tf.__version__}\")\n",
    "print(f\"Keras Version: {tensorflow.keras.__version__}\")\n",
    "print(f\"Pandas {pd.__version__}\")\n",
    "print(f\"Scikit-Learn {sk.__version__}\")\n",
    "print(f\"Numpy {np.__version__}\")\n",
    "print(f\"Open CV {cv2.__version__}\")\n",
    "print()\n",
    "gpu = len(tf.config.list_physical_devices('GPU')) > 0\n",
    "print(\"GPU is\", \"available\" if gpu else \"NOT AVAILABLE\")"
   ]
  },
  {
   "cell_type": "markdown",
   "id": "be415778",
   "metadata": {
    "hide_input": true
   },
   "source": [
    "# Data Set Location Verified and Find Image's Folder"
   ]
  },
  {
   "cell_type": "code",
   "execution_count": 48,
   "id": "c3080153",
   "metadata": {
    "ExecuteTime": {
     "end_time": "2022-10-20T08:30:21.198672Z",
     "start_time": "2022-10-20T08:30:21.195636Z"
    },
    "hide_input": true,
    "run_control": {
     "marked": false
    }
   },
   "outputs": [
    {
     "name": "stdout",
     "output_type": "stream",
     "text": [
      "['.DS_Store', 'NORMAL', 'COVID']\n"
     ]
    }
   ],
   "source": [
    "# image data set_path mapping check folder names\n",
    "dataset_path = 'TRAINING'\n",
    "categories = os.listdir(dataset_path)\n",
    "print(categories)"
   ]
  },
  {
   "cell_type": "markdown",
   "id": "8a9e984b",
   "metadata": {
    "hide_input": true
   },
   "source": [
    "# Images count in each folder"
   ]
  },
  {
   "cell_type": "code",
   "execution_count": 65,
   "id": "e9157298",
   "metadata": {
    "ExecuteTime": {
     "end_time": "2022-10-20T08:44:32.260396Z",
     "start_time": "2022-10-20T08:44:32.223239Z"
    },
    "hide_input": false
   },
   "outputs": [
    {
     "name": "stdout",
     "output_type": "stream",
     "text": [
      "Covid images count     : 40\n",
      "Non covid images count : 53\n",
      "All images count       : 93\n",
      "Covid images           : 43.01 %\n",
      "Non covid images       : 56.99 %\n"
     ]
    }
   ],
   "source": [
    "categories_all = os.listdir(dataset_path)\n",
    "categories = []\n",
    "for category in categories_all:\n",
    "    if (category != \".DS_Store\"):\n",
    "        categories.append(category)\n",
    "\n",
    "img_path_non_covid_old = []\n",
    "img_path_covid_old = []\n",
    "\n",
    "\n",
    "def images_name_array(need_store_array, folder_path):\n",
    "    for img_name in os.listdir(folder_path):\n",
    "        img_path = os.path.join(folder_path, img_name)\n",
    "        need_store_array.append(img_path)\n",
    "\n",
    "\n",
    "normal_images_names_folder_path = os.path.join(dataset_path, \"NORMAL\")\n",
    "images_name_array(img_path_non_covid_old, normal_images_names_folder_path)\n",
    "\n",
    "covid_images_names_folder_path = os.path.join(dataset_path, \"COVID\")\n",
    "images_name_array(img_path_covid_old, covid_images_names_folder_path)\n",
    "\n",
    "\n",
    "# images array shuffles\n",
    "def image_path_shuffle(img_path_array):\n",
    "    img_path_array = random.sample(img_path_array, len(img_path_array))\n",
    "    return img_path_array\n",
    "\n",
    "\n",
    "img_path_covid_old = image_path_shuffle(img_path_covid_old)\n",
    "img_path_non_covid_old = image_path_shuffle(img_path_non_covid_old)\n",
    "\n",
    "#  images array length\n",
    "divider = 99.99\n",
    "middle_img_path_covid = int(len(img_path_covid_old)/divider)\n",
    "middle_img_path_non_covid = int(len(img_path_non_covid_old)/divider)\n",
    "\n",
    "img_path_covid = img_path_covid_old[:middle_img_path_covid]\n",
    "img_path_non_covid = img_path_non_covid_old[:middle_img_path_non_covid]\n",
    "\n",
    "total_images = len(img_path_non_covid) + len(img_path_covid)\n",
    "\n",
    "print(f\"Covid images count     : {len(img_path_covid)}\")\n",
    "print(f\"Non covid images count : {len(img_path_non_covid)}\")\n",
    "print(f\"All images count       : {total_images}\")\n",
    "print(\n",
    "    f\"Covid images           : {round((len(img_path_covid)/total_images)*100, 2)} %\")\n",
    "print(\n",
    "    f\"Non covid images       : {round((len(img_path_non_covid)/total_images)*100, 2)} %\")"
   ]
  },
  {
   "cell_type": "markdown",
   "id": "7a3c482b",
   "metadata": {},
   "source": [
    "# Data Labels creation"
   ]
  },
  {
   "cell_type": "code",
   "execution_count": 50,
   "id": "76d9eb9e",
   "metadata": {
    "ExecuteTime": {
     "end_time": "2022-10-20T08:30:21.226684Z",
     "start_time": "2022-10-20T08:30:21.224242Z"
    },
    "hide_input": false,
    "run_control": {
     "marked": false
    }
   },
   "outputs": [
    {
     "name": "stdout",
     "output_type": "stream",
     "text": [
      "{'NORMAL': 0, 'COVID': 1}\n",
      "['NORMAL', 'COVID']\n",
      "[0, 1]\n"
     ]
    }
   ],
   "source": [
    "labels = [i for i in range(len(categories))]\n",
    "\n",
    "label_dict = dict(zip(categories, labels))  # empty dictionary\n",
    "\n",
    "print(label_dict)\n",
    "print(categories)\n",
    "print(labels)"
   ]
  },
  {
   "cell_type": "markdown",
   "id": "7fd607bc",
   "metadata": {},
   "source": [
    "# Images reading and creating data array"
   ]
  },
  {
   "cell_type": "code",
   "execution_count": 80,
   "id": "f54ccbf0",
   "metadata": {
    "ExecuteTime": {
     "end_time": "2022-10-20T09:07:09.399025Z",
     "start_time": "2022-10-20T09:07:08.484504Z"
    },
    "hide_input": false
   },
   "outputs": [
    {
     "name": "stdout",
     "output_type": "stream",
     "text": [
      "[1, 1, 1, 1, 1, 1, 1, 1, 1, 1, 1, 1, 1, 1, 1, 1, 1, 1, 1, 1, 1, 1, 1, 1, 1, 1, 1, 1, 1, 1, 1, 1, 1, 1, 1, 1, 1, 1, 1, 1]\n",
      "[array([[  4,   4,   4, ...,   4,   4,   4],\n",
      "       [  3,   3,   3, ...,   4,   4,   4],\n",
      "       [  3,   3,   3, ...,   4,   4,   4],\n",
      "       ...,\n",
      "       [ 90,  87,  91, ...,  37,  42,  48],\n",
      "       [ 98,  88,  97, ...,  41,  45,  55],\n",
      "       [100,  89,  99, ...,  38,  52,  59]], dtype=uint8), array([[0, 0, 1, ..., 0, 0, 2],\n",
      "       [0, 0, 0, ..., 0, 0, 2],\n",
      "       [0, 0, 0, ..., 0, 0, 2],\n",
      "       ...,\n",
      "       [0, 0, 0, ..., 0, 0, 0],\n",
      "       [0, 0, 0, ..., 0, 0, 0],\n",
      "       [0, 0, 0, ..., 0, 0, 0]], dtype=uint8), array([[245, 246, 245, ...,  54, 103, 131],\n",
      "       [243, 244, 245, ...,  45,  95, 121],\n",
      "       [242, 242, 242, ...,  47,  87, 115],\n",
      "       ...,\n",
      "       [219, 215, 215, ..., 122, 125, 136],\n",
      "       [211, 215, 210, ..., 117, 123, 134],\n",
      "       [254, 255, 252, ..., 252, 255, 254]], dtype=uint8), array([[ 18,  13,  13, ...,  34,  25,  31],\n",
      "       [ 13,  12,  10, ...,  19,  15,  26],\n",
      "       [ 11,   9,   7, ...,  18,  16,  12],\n",
      "       ...,\n",
      "       [163, 168, 161, ...,   6,   6,   2],\n",
      "       [179, 173, 178, ...,   7,   5,   3],\n",
      "       [195, 196, 189, ...,  10,   6, 157]], dtype=uint8), array([[  1,   1,   1, ...,   1,   2,  30],\n",
      "       [  4,   4,   3, ...,   2,   4,  31],\n",
      "       [  4,   5,   9, ...,   3,   3,  31],\n",
      "       ...,\n",
      "       [167, 172, 175, ..., 182, 176, 181],\n",
      "       [168, 171, 174, ..., 183, 175, 178],\n",
      "       [158, 167, 169, ..., 179, 169, 174]], dtype=uint8), array([[  0,   0,   0, ...,   0,   0,   0],\n",
      "       [  0,   0,   0, ...,   0,   0,   0],\n",
      "       [  0,   0,   0, ...,   0,   0,   0],\n",
      "       ...,\n",
      "       [136, 133, 122, ..., 103,  48,  58],\n",
      "       [141, 139, 132, ...,  86,  48,  56],\n",
      "       [148, 149, 138, ...,  60,  48,  55]], dtype=uint8), array([[ 82, 106, 104, ...,  97,  90,  86],\n",
      "       [ 81, 105, 101, ...,  90,  81,  84],\n",
      "       [ 74, 101,  95, ...,  87,  88,  81],\n",
      "       ...,\n",
      "       [  0,   0,   0, ...,  46,  40,  28],\n",
      "       [  0,   0,   0, ...,  51,  44,  35],\n",
      "       [  0,   0,   0, ...,  51,  43,  35]], dtype=uint8), array([[ 0,  0,  0, ...,  0,  0,  0],\n",
      "       [ 0,  0,  0, ...,  0,  0,  0],\n",
      "       [ 0,  0,  0, ...,  0,  0,  0],\n",
      "       ...,\n",
      "       [ 0,  5, 19, ...,  7, 10, 14],\n",
      "       [ 1,  6, 16, ...,  6, 11, 14],\n",
      "       [ 1,  6, 15, ...,  5,  9, 13]], dtype=uint8), array([[184, 179, 178, ..., 167, 167, 169],\n",
      "       [ 92,  79,  71, ...,  10,  10,  10],\n",
      "       [  5,   1,   1, ...,   1,   1,   1],\n",
      "       ...,\n",
      "       [  1,   1,   1, ...,  15,  12,   1],\n",
      "       [  1,   1,   1, ...,  14,  12,   1],\n",
      "       [  1,   1,   1, ...,  13,   9,   1]], dtype=uint8), array([[6, 7, 7, ..., 0, 0, 0],\n",
      "       [5, 5, 5, ..., 0, 0, 0],\n",
      "       [4, 4, 4, ..., 0, 0, 0],\n",
      "       ...,\n",
      "       [0, 0, 0, ..., 2, 2, 2],\n",
      "       [0, 0, 0, ..., 3, 1, 1],\n",
      "       [0, 0, 0, ..., 1, 2, 0]], dtype=uint8), array([[112, 128, 131, ...,   0,   0,   2],\n",
      "       [120, 124, 126, ...,   2,   0,   0],\n",
      "       [118, 124, 124, ...,   3,   0,   0],\n",
      "       ...,\n",
      "       [  0,   0,  11, ..., 137, 118, 105],\n",
      "       [  0,   1,   8, ..., 139, 113, 107],\n",
      "       [198,   2,   3, ..., 133, 113, 123]], dtype=uint8), array([[  3,   3,  56, ...,  49,  63,   3],\n",
      "       [  3,   3,  47, ...,  19,  33,   3],\n",
      "       [  3,   3,  47, ...,  14,  27,   3],\n",
      "       ...,\n",
      "       [105,  88,  74, ..., 255, 238,  60],\n",
      "       [115, 104,  99, ..., 255, 254,  63],\n",
      "       [100,  95,  94, ..., 109, 128, 144]], dtype=uint8), array([[151,   0,   1, ...,   1,   0,   0],\n",
      "       [  0,   1,   0, ...,   0,   0,   0],\n",
      "       [  1,   0,   0, ...,   0,   0,   0],\n",
      "       ...,\n",
      "       [  0,   0,  14, ...,   0,   0,   0],\n",
      "       [  1,   0,   6, ...,   0,   0,   0],\n",
      "       [  0,   0,   3, ...,   0,   0,   0]], dtype=uint8), array([[53, 53, 53, ..., 53, 53, 53],\n",
      "       [53, 53, 53, ..., 53, 53, 53],\n",
      "       [53, 53, 53, ..., 53, 53, 53],\n",
      "       ...,\n",
      "       [53, 53, 53, ..., 53, 53, 53],\n",
      "       [53, 53, 53, ..., 53, 53, 53],\n",
      "       [53, 53, 53, ..., 53, 53, 53]], dtype=uint8), array([[153, 104,  28, ...,   6,   7,   6],\n",
      "       [149,  96,  23, ...,   5,   6,   5],\n",
      "       [149,  93,  24, ...,   4,   4,   5],\n",
      "       ...,\n",
      "       [ 84,  82,  92, ..., 124, 105,  94],\n",
      "       [ 76,  87,  89, ..., 131, 113, 101],\n",
      "       [ 83,  80,  89, ..., 135, 126, 113]], dtype=uint8), array([[  0,   0,   0, ...,   0,   0,   0],\n",
      "       [  0,   0,   0, ...,  24,  29,  26],\n",
      "       [  0,   0,   0, ..., 118, 119, 129],\n",
      "       ...,\n",
      "       [  0,   0,   0, ..., 202, 207, 205],\n",
      "       [  0,   0,   0, ..., 212, 208, 215],\n",
      "       [  0,   0,   0, ..., 222, 216, 224]], dtype=uint8), array([[100,  98, 102, ..., 178, 180, 213],\n",
      "       [102, 101, 103, ..., 180, 180, 213],\n",
      "       [110, 108, 107, ..., 179, 180, 213],\n",
      "       ...,\n",
      "       [ 84,  83,  80, ...,  65,  65, 159],\n",
      "       [ 62,  62,  63, ...,  65,  60, 160],\n",
      "       [ 58,  58,  60, ...,  59,  53, 157]], dtype=uint8), array([[ 74,  64,  61, ...,  14,  15,  15],\n",
      "       [ 80,  79,  73, ...,  16,  17,  19],\n",
      "       [ 71,  85,  87, ...,  21,  19,  17],\n",
      "       ...,\n",
      "       [180, 181, 182, ...,   6,   7,   8],\n",
      "       [180, 180, 181, ...,   6,   7,   8],\n",
      "       [165, 166, 167, ...,   6,   7,   8]], dtype=uint8), array([[ 75,  50,  30, ...,  69, 165, 217],\n",
      "       [ 83,  50,  31, ...,  72, 171, 232],\n",
      "       [ 82,  50,  31, ...,  70, 169, 231],\n",
      "       ...,\n",
      "       [121, 128, 133, ..., 134, 164, 185],\n",
      "       [118, 128, 138, ..., 137, 157, 185],\n",
      "       [119, 124, 132, ..., 131, 139, 181]], dtype=uint8), array([[0, 0, 0, ..., 0, 0, 0],\n",
      "       [0, 0, 0, ..., 0, 0, 0],\n",
      "       [0, 0, 0, ..., 0, 0, 0],\n",
      "       ...,\n",
      "       [0, 0, 0, ..., 0, 0, 0],\n",
      "       [0, 0, 0, ..., 0, 0, 0],\n",
      "       [0, 0, 0, ..., 0, 0, 0]], dtype=uint8), array([[206, 202, 200, ..., 143, 138, 125],\n",
      "       [200, 200, 197, ..., 148, 141, 123],\n",
      "       [197, 180, 180, ..., 143, 137, 127],\n",
      "       ...,\n",
      "       [180, 196, 195, ..., 188, 198, 167],\n",
      "       [193, 201, 196, ..., 202, 195, 190],\n",
      "       [190, 194, 193, ..., 206, 212, 212]], dtype=uint8), array([[  0,   0,   0, ...,   0,   0,   1],\n",
      "       [  0,   0,   0, ...,   0,   0,   0],\n",
      "       [  0,   0,   0, ...,   0,   0,   0],\n",
      "       ...,\n",
      "       [ 41, 208, 213, ..., 176, 164, 118],\n",
      "       [ 41, 206, 212, ..., 160, 169, 117],\n",
      "       [ 41, 210, 212, ..., 156, 166, 118]], dtype=uint8), array([[  1,   1,   1, ...,   0,   0,   0],\n",
      "       [  1,   1,   1, ...,   0,   0,   0],\n",
      "       [  1,   1,   1, ...,   0,   0,   0],\n",
      "       ...,\n",
      "       [ 54,  74, 152, ...,   0,   0,   0],\n",
      "       [ 60,  57, 100, ...,   0,   0,   0],\n",
      "       [ 56,  77,  79, ...,   0,   0,   0]], dtype=uint8), array([[ 1,  1,  1, ..., 76, 68, 66],\n",
      "       [ 1,  1, 10, ..., 96, 83, 69],\n",
      "       [ 3, 21, 22, ..., 94, 87, 83],\n",
      "       ...,\n",
      "       [ 0,  0,  0, ...,  0,  0,  0],\n",
      "       [ 0,  0,  0, ...,  0,  0,  0],\n",
      "       [ 0,  0,  0, ...,  0,  0,  0]], dtype=uint8), array([[  0,   0,   0, ...,   0,   0,   0],\n",
      "       [  0,   0,   0, ...,   0,   0,   0],\n",
      "       [  0,   0,   0, ...,   0,   0,   0],\n",
      "       ...,\n",
      "       [164, 160, 164, ...,   0,   0,   0],\n",
      "       [162, 156, 159, ...,   0,   0,   0],\n",
      "       [170, 160, 169, ...,   0,   0,   0]], dtype=uint8), array([[  0,   0,   0, ...,   0,   0,   0],\n",
      "       [  0,   0,   0, ...,   0,   0,   0],\n",
      "       [  0,   0,   0, ...,   0,   0,   0],\n",
      "       ...,\n",
      "       [102, 103, 110, ..., 138, 125, 120],\n",
      "       [ 99, 108, 108, ..., 136, 129, 125],\n",
      "       [ 99, 112, 110, ..., 137, 134, 128]], dtype=uint8), array([[22, 23, 24, ...,  1,  1,  1],\n",
      "       [28, 32, 27, ...,  0,  0,  0],\n",
      "       [33, 38, 42, ...,  1,  1,  1],\n",
      "       ...,\n",
      "       [ 1,  1,  1, ...,  1,  1,  1],\n",
      "       [ 0,  0,  0, ...,  0,  0,  0],\n",
      "       [ 1,  1,  1, ...,  1,  1,  1]], dtype=uint8), array([[121, 127, 119, ...,  30,  30,  31],\n",
      "       [132, 127, 125, ...,  53,  51,  44],\n",
      "       [146, 147, 146, ...,  54,  53,  53],\n",
      "       ...,\n",
      "       [ 97,  98, 114, ...,  58,  31,  15],\n",
      "       [100,  98, 116, ...,  63,  49,  24],\n",
      "       [ 97,  98, 113, ...,  65,  52,  39]], dtype=uint8), array([[ 88,  74,  96, ...,  54,  45,  36],\n",
      "       [118,  73,  74, ...,  51,  40,  52],\n",
      "       [123,  94,  69, ...,  54,  53,  65],\n",
      "       ...,\n",
      "       [  3,   3,   3, ...,  79,  65,  52],\n",
      "       [  3,   3,   3, ...,  75,  67,  56],\n",
      "       [  3,   3,   3, ...,  74,  56,  48]], dtype=uint8), array([[ 18,  22,  14, ...,  53,  62,  67],\n",
      "       [ 45,  35,  50, ...,  42,  50,  65],\n",
      "       [ 50,  54,  82, ...,  33,  43,  46],\n",
      "       ...,\n",
      "       [ 91, 104,  64, ...,   0,   0,   0],\n",
      "       [100, 112,  52, ...,   0,   5,   0],\n",
      "       [ 97, 125,  36, ...,   0,   0,   0]], dtype=uint8), array([[0, 0, 0, ..., 0, 0, 0],\n",
      "       [0, 0, 0, ..., 0, 0, 0],\n",
      "       [0, 0, 0, ..., 0, 0, 0],\n",
      "       ...,\n",
      "       [0, 0, 0, ..., 0, 0, 0],\n",
      "       [0, 0, 0, ..., 0, 0, 0],\n",
      "       [0, 0, 0, ..., 0, 0, 0]], dtype=uint8), array([[36, 16, 22, ..., 28, 30, 46],\n",
      "       [17, 23, 19, ..., 23, 27, 28],\n",
      "       [20, 17, 18, ..., 24, 24, 30],\n",
      "       ...,\n",
      "       [71, 60, 46, ..., 53, 60, 77],\n",
      "       [70, 61, 41, ..., 48, 60, 75],\n",
      "       [81, 61, 39, ..., 45, 52, 76]], dtype=uint8), array([[  0,   0,   0, ...,   0,   0,   0],\n",
      "       [  0,   0,   0, ...,   0,   0,   0],\n",
      "       [  0,   0,   0, ...,   0,   0,   0],\n",
      "       ...,\n",
      "       [127, 142, 153, ..., 106,   6,   1],\n",
      "       [126, 143, 154, ...,  90,   9,   2],\n",
      "       [130, 154, 157, ...,  76,  17,   9]], dtype=uint8), array([[12, 13, 10, ...,  7,  9, 12],\n",
      "       [14, 10, 12, ...,  8, 12, 10],\n",
      "       [12, 11, 13, ...,  8, 10, 11],\n",
      "       ...,\n",
      "       [18, 18, 22, ...,  1,  1,  0],\n",
      "       [26, 24, 21, ...,  5,  1,  0],\n",
      "       [23, 22, 21, ...,  3,  1,  1]], dtype=uint8), array([[  2,   3,  29, ...,   0,   0, 175],\n",
      "       [  2,  11, 247, ...,   0,   0, 175],\n",
      "       [  2,  11, 255, ...,   0,   0, 175],\n",
      "       ...,\n",
      "       [  1,   0,   0, ...,   0,   0, 175],\n",
      "       [  1,   0,   0, ...,   0,   0, 175],\n",
      "       [  1,   0,   0, ...,   0,   0, 175]], dtype=uint8), array([[0, 0, 0, ..., 0, 0, 0],\n",
      "       [0, 0, 0, ..., 0, 0, 0],\n",
      "       [0, 0, 0, ..., 0, 0, 0],\n",
      "       ...,\n",
      "       [0, 0, 0, ..., 0, 0, 0],\n",
      "       [0, 0, 0, ..., 0, 0, 0],\n",
      "       [0, 0, 0, ..., 0, 0, 0]], dtype=uint8), array([[7, 7, 7, ..., 7, 7, 7],\n",
      "       [7, 7, 7, ..., 7, 7, 7],\n",
      "       [7, 7, 7, ..., 7, 7, 7],\n",
      "       ...,\n",
      "       [6, 6, 6, ..., 7, 7, 7],\n",
      "       [6, 6, 6, ..., 7, 7, 7],\n",
      "       [6, 6, 6, ..., 7, 7, 7]], dtype=uint8), array([[0, 0, 0, ..., 0, 0, 0],\n",
      "       [0, 0, 0, ..., 0, 0, 0],\n",
      "       [0, 0, 0, ..., 0, 0, 0],\n",
      "       ...,\n",
      "       [0, 0, 0, ..., 0, 0, 0],\n",
      "       [0, 0, 0, ..., 0, 0, 0],\n",
      "       [0, 0, 0, ..., 0, 0, 0]], dtype=uint8), array([[  0,   0,   0, ...,  58, 136,   0],\n",
      "       [  0,   0,   0, ...,  56,  25, 210],\n",
      "       [  0,   0,   0, ...,  55,  58,  68],\n",
      "       ...,\n",
      "       [ 81,  88,  86, ...,  80,  76,  65],\n",
      "       [ 76,  84,  87, ...,  76,  80,  63],\n",
      "       [ 72,  86,  87, ...,  79,  75,  68]], dtype=uint8), array([[49, 54, 53, ..., 77, 78, 72],\n",
      "       [54, 55, 54, ..., 76, 75, 63],\n",
      "       [53, 57, 59, ..., 69, 68, 65],\n",
      "       ...,\n",
      "       [86, 64, 87, ..., 63, 74, 77],\n",
      "       [69, 72, 69, ..., 95, 90, 96],\n",
      "       [47, 70, 50, ..., 93, 96, 90]], dtype=uint8)]\n"
     ]
    }
   ],
   "source": [
    "img_size = 224\n",
    "data = []\n",
    "target = []\n",
    "\n",
    "\n",
    "def image_data_reading(img_path):\n",
    "    img = cv2.imread(img_path)\n",
    "    try:\n",
    "        gray = cv2.cvtColor(img, cv2.COLOR_BGR2GRAY)\n",
    "        # Coverting the image into gray scale\n",
    "        resized = cv2.resize(gray, (img_size, img_size))\n",
    "        # resizing the gray scale into 255x255, since we need a fixed common size for all the images in the dataset\n",
    "\n",
    "    except Exception as e:\n",
    "        print('Exception:', e)\n",
    "        # if any exception rasied, the exception will be printed here. And pass to the next image\n",
    "    return resized\n",
    "\n",
    "\n",
    "for image_path in img_path_covid:\n",
    "    data.append(image_data_reading(image_path))\n",
    "    target.append(label_dict[\"COVID\"])\n",
    "\n",
    "for image_path in img_path_non_covid:\n",
    "    data.append(image_data_reading(image_path))\n",
    "    target.append(label_dict[\"COVID\"])\n",
    "\n",
    "\n",
    "print(target)\n",
    "print(data)"
   ]
  },
  {
   "cell_type": "code",
   "execution_count": null,
   "id": "1b1b5f20",
   "metadata": {},
   "outputs": [],
   "source": []
  },
  {
   "cell_type": "markdown",
   "id": "9994e9b6",
   "metadata": {},
   "source": [
    "# Read images data array reshape and save as np array"
   ]
  },
  {
   "cell_type": "code",
   "execution_count": 75,
   "id": "2c721509",
   "metadata": {
    "ExecuteTime": {
     "end_time": "2022-10-20T08:59:01.923885Z",
     "start_time": "2022-10-20T08:59:01.854121Z"
    },
    "run_control": {
     "marked": false
    }
   },
   "outputs": [
    {
     "name": "stdout",
     "output_type": "stream",
     "text": [
      "[[[2.23737380e-19]\n",
      "  [2.23737380e-19]\n",
      "  [2.23737380e-19]\n",
      "  ...\n",
      "  [2.23737380e-19]\n",
      "  [2.23737380e-19]\n",
      "  [2.23737380e-19]]\n",
      "\n",
      " [[1.67803035e-19]\n",
      "  [1.67803035e-19]\n",
      "  [1.67803035e-19]\n",
      "  ...\n",
      "  [2.23737380e-19]\n",
      "  [2.23737380e-19]\n",
      "  [2.23737380e-19]]\n",
      "\n",
      " [[1.67803035e-19]\n",
      "  [1.67803035e-19]\n",
      "  [1.67803035e-19]\n",
      "  ...\n",
      "  [2.23737380e-19]\n",
      "  [2.23737380e-19]\n",
      "  [2.23737380e-19]]\n",
      "\n",
      " ...\n",
      "\n",
      " [[5.20189408e-18]\n",
      "  [4.75441932e-18]\n",
      "  [4.97815670e-18]\n",
      "  ...\n",
      "  [2.51704552e-18]\n",
      "  [2.79671725e-18]\n",
      "  [2.85265159e-18]]\n",
      "\n",
      " [[5.36969712e-18]\n",
      "  [4.75441932e-18]\n",
      "  [5.36969712e-18]\n",
      "  ...\n",
      "  [2.46111118e-18]\n",
      "  [2.85265159e-18]\n",
      "  [2.90858594e-18]]\n",
      "\n",
      " [[5.36969712e-18]\n",
      "  [5.48156581e-18]\n",
      "  [5.20189408e-18]\n",
      "  ...\n",
      "  [2.62891421e-18]\n",
      "  [2.57297987e-18]\n",
      "  [3.07638897e-18]]]\n",
      "-------------\n",
      "[[[2.23737380e-19]\n",
      "  [2.23737380e-19]\n",
      "  [2.23737380e-19]\n",
      "  ...\n",
      "  [2.23737380e-19]\n",
      "  [2.23737380e-19]\n",
      "  [2.23737380e-19]]\n",
      "\n",
      " [[1.67803035e-19]\n",
      "  [1.67803035e-19]\n",
      "  [1.67803035e-19]\n",
      "  ...\n",
      "  [2.23737380e-19]\n",
      "  [2.23737380e-19]\n",
      "  [2.23737380e-19]]\n",
      "\n",
      " [[1.67803035e-19]\n",
      "  [1.67803035e-19]\n",
      "  [1.67803035e-19]\n",
      "  ...\n",
      "  [2.23737380e-19]\n",
      "  [2.23737380e-19]\n",
      "  [2.23737380e-19]]\n",
      "\n",
      " ...\n",
      "\n",
      " [[5.20189408e-18]\n",
      "  [4.75441932e-18]\n",
      "  [4.97815670e-18]\n",
      "  ...\n",
      "  [2.51704552e-18]\n",
      "  [2.79671725e-18]\n",
      "  [2.85265159e-18]]\n",
      "\n",
      " [[5.36969712e-18]\n",
      "  [4.75441932e-18]\n",
      "  [5.36969712e-18]\n",
      "  ...\n",
      "  [2.46111118e-18]\n",
      "  [2.85265159e-18]\n",
      "  [2.90858594e-18]]\n",
      "\n",
      " [[5.36969712e-18]\n",
      "  [5.48156581e-18]\n",
      "  [5.20189408e-18]\n",
      "  ...\n",
      "  [2.62891421e-18]\n",
      "  [2.57297987e-18]\n",
      "  [3.07638897e-18]]]\n",
      "-------------\n",
      "1\n",
      "<class 'numpy.ndarray'>\n",
      "Data shape : (93, 255, 255, 1) \n",
      "Target shape : (93,) \n",
      "New Target shape : (93, 2)\n"
     ]
    }
   ],
   "source": [
    "data=np.array(data)/255.0\n",
    "print(data[0])\n",
    "print(\"-------------\")\n",
    "data=np.reshape(data,(data.shape[0],img_size,img_size,1))\n",
    "print(data[0])\n",
    "target=np.array(target)\n",
    "print(\"-------------\")\n",
    "print(target[0])\n",
    "\n",
    "from keras.utils import np_utils\n",
    "\n",
    "new_target=np_utils.to_categorical(target)\n",
    "print(type(new_target))\n",
    "# standard binary file format in NumPy for persisting a single arbitrary NumPy array on disk.\n",
    "np.save('data',data)\n",
    "np.save('target',new_target)\n",
    "\n",
    "print(f\"Data shape : {data.shape} \\nTarget shape : {target.shape} \\nNew Target shape : {new_target.shape}\")\n",
    "\n"
   ]
  },
  {
   "cell_type": "markdown",
   "id": "b8f85526",
   "metadata": {},
   "source": [
    "# Data description and plot"
   ]
  },
  {
   "cell_type": "code",
   "execution_count": null,
   "id": "98bd2721",
   "metadata": {
    "ExecuteTime": {
     "end_time": "2022-10-20T08:31:07.982311Z",
     "start_time": "2022-10-20T08:31:07.982305Z"
    }
   },
   "outputs": [],
   "source": [
    "print(type(data))"
   ]
  },
  {
   "cell_type": "code",
   "execution_count": null,
   "id": "ccf19fd8",
   "metadata": {
    "ExecuteTime": {
     "end_time": "2022-10-20T08:26:01.316183Z",
     "start_time": "2022-10-20T08:26:00.548091Z"
    }
   },
   "outputs": [],
   "source": []
  },
  {
   "cell_type": "markdown",
   "id": "940cd535",
   "metadata": {},
   "source": [
    "# Create model and get summary "
   ]
  },
  {
   "cell_type": "code",
   "execution_count": null,
   "id": "55a07035",
   "metadata": {
    "ExecuteTime": {
     "end_time": "2022-10-20T08:31:07.983289Z",
     "start_time": "2022-10-20T08:31:07.983282Z"
    },
    "run_control": {
     "marked": false
    }
   },
   "outputs": [],
   "source": [
    "\n",
    "from keras.models import Sequential,Model\n",
    "from keras.layers import Dense, Dropout, Flatten\n",
    "from keras.layers import Conv2D,Activation,MaxPooling2D\n",
    "from keras.utils import normalize\n",
    "from keras.layers import Concatenate\n",
    "from keras import Input\n",
    "from keras.callbacks import ModelCheckpoint\n",
    "\n",
    "data=np.load('data.npy')\n",
    "target=np.load('target.npy')\n",
    "\n",
    "print(data.shape)\n",
    "print(target.shape)\n",
    "\n",
    "\n",
    "input_shape=data.shape[1:] #50,50,1\n",
    "inp=Input(shape=input_shape)\n",
    "convs=[]\n",
    "\n",
    "parrallel_kernels=[3,5,7]\n",
    "\n",
    "for k in range(len(parrallel_kernels)):\n",
    "    if(k !=0):\n",
    "        conv = Conv2D(128, kernel_size = k,padding = 'same' ,activation='relu')(inp)\n",
    "\n",
    "        convs.append(conv)\n",
    "\n",
    "out = Concatenate()(convs)\n",
    "conv_model = Model(inp, out)\n",
    "\n",
    "model = Sequential()\n",
    "model.add(conv_model)\n",
    "\n",
    "model.add(Conv2D(64,(3,3)))\n",
    "model.add(Activation('relu'))\n",
    "model.add(MaxPooling2D(pool_size=(2,2)))\n",
    "\n",
    "model.add(Conv2D(32,(3,3)))\n",
    "model.add(Activation('relu'))\n",
    "model.add(MaxPooling2D(pool_size=(2,2)))\n",
    "\n",
    "model.add(Flatten())\n",
    "model.add(Dropout(0.5))\n",
    "model.add(Dense(128,activation='relu'))\n",
    "model.add(Dropout(0.5))\n",
    "model.add(Dense(64,activation='relu'))\n",
    "model.add(Dropout(0.5))\n",
    "model.add(Dense(2,input_dim=128,activation='softmax'))\n",
    "model.compile(loss='categorical_crossentropy',optimizer='adam',metrics=['accuracy'])\n",
    "\n",
    "model.summary()"
   ]
  },
  {
   "cell_type": "markdown",
   "id": "d7bbfac0",
   "metadata": {},
   "source": [
    "# Plot model architecture "
   ]
  },
  {
   "cell_type": "code",
   "execution_count": null,
   "id": "65e44b6d",
   "metadata": {
    "ExecuteTime": {
     "end_time": "2022-10-20T08:31:07.984052Z",
     "start_time": "2022-10-20T08:31:07.984043Z"
    }
   },
   "outputs": [],
   "source": [
    "# plot model as image\n",
    "tf.keras.utils.plot_model(\n",
    "    model,\n",
    "    to_file='model.png',\n",
    "    show_shapes=True,\n",
    "    show_dtype=True,\n",
    "    show_layer_names=True,\n",
    "    rankdir='TB',\n",
    "    expand_nested=True,\n",
    "    dpi=96,\n",
    "    layer_range=None,\n",
    "    show_layer_activations=True\n",
    ")\n",
    "\n"
   ]
  },
  {
   "cell_type": "markdown",
   "id": "46a18bca",
   "metadata": {
    "run_control": {
     "marked": true
    }
   },
   "source": [
    "# Date set divided to training data set and validation data set "
   ]
  },
  {
   "cell_type": "code",
   "execution_count": null,
   "id": "e8e8f259",
   "metadata": {
    "ExecuteTime": {
     "end_time": "2022-10-20T08:31:07.984584Z",
     "start_time": "2022-10-20T08:31:07.984579Z"
    },
    "run_control": {
     "marked": false
    }
   },
   "outputs": [],
   "source": [
    "from sklearn.model_selection import train_test_split\n",
    "\n",
    "train_data,test_data,train_target,test_target=train_test_split(data,target,test_size=0.4)\n",
    "\n",
    "\n",
    "print(type (train_data))\n",
    "# need to print training set length and validation data length"
   ]
  },
  {
   "cell_type": "code",
   "execution_count": null,
   "id": "8b952e26",
   "metadata": {
    "ExecuteTime": {
     "end_time": "2022-10-20T08:15:19.048051Z",
     "start_time": "2022-10-20T08:15:19.021132Z"
    }
   },
   "outputs": [],
   "source": []
  },
  {
   "cell_type": "markdown",
   "id": "6599c2e7",
   "metadata": {
    "heading_collapsed": true
   },
   "source": [
    "# Model training and validation"
   ]
  },
  {
   "cell_type": "code",
   "execution_count": null,
   "id": "57e78c3f",
   "metadata": {
    "ExecuteTime": {
     "end_time": "2022-10-20T08:31:07.985186Z",
     "start_time": "2022-10-20T08:31:07.985177Z"
    },
    "hidden": true,
    "run_control": {
     "marked": false
    }
   },
   "outputs": [],
   "source": [
    "print(f\"Start checkpoint creation:{datetime.datetime.now()}\")\n",
    "checkpoint = ModelCheckpoint('model-{epoch:03d}.model',\n",
    "                             monitor='val_accuracy',\n",
    "                             verbose=1,\n",
    "                             save_best_only=True,\n",
    "                             mode='max')\n",
    "\n",
    "\n",
    "history=model.fit(train_data,\n",
    "                  train_target,\n",
    "                  epochs=20,\n",
    "                  callbacks=[checkpoint],\n",
    "                  validation_split=0.1)\n",
    "print(f\"End checkpoint creation:{datetime.datetime.now()}\")"
   ]
  },
  {
   "cell_type": "markdown",
   "id": "1c25d53b",
   "metadata": {},
   "source": [
    "# Graph Floting area\n"
   ]
  },
  {
   "cell_type": "markdown",
   "id": "3979c728",
   "metadata": {},
   "source": [
    "## Plot values in to graph"
   ]
  },
  {
   "cell_type": "code",
   "execution_count": null,
   "id": "86ec67a6",
   "metadata": {
    "ExecuteTime": {
     "end_time": "2022-10-20T08:31:07.985830Z",
     "start_time": "2022-10-20T08:31:07.985824Z"
    },
    "run_control": {
     "marked": false
    }
   },
   "outputs": [],
   "source": [
    "# floting values in to graph\n",
    "from matplotlib import pyplot as plt\n",
    "import seaborn as sns\n",
    "sns.set()\n",
    "acc = history.history['accuracy']\n",
    "val_acc = history.history['val_accuracy']\n",
    "loss = history.history['loss']\n",
    "val_loss = history.history['val_loss']\n",
    "\n",
    "epochs = range(0,len(acc))\n",
    "fig = plt.gcf()\n",
    "fig.set_size_inches(16, 8)\n",
    "\n",
    "plt.plot(epochs, acc, 'r', label='Training accuracy',marker = \"o\")\n",
    "plt.plot(epochs, val_acc, 'b', label='Validation accuracy',marker = \"o\")\n",
    "plt.title('Training and validation accuracy')\n",
    "plt.xticks(np.arange(0, len(acc), 10))\n",
    "plt.legend(loc=0)\n",
    "plt.figure()\n",
    "\n",
    "fig = plt.gcf()\n",
    "fig.set_size_inches(16, 8)\n",
    "plt.plot(epochs, loss, 'r', label='Training Loss',marker = \"o\")\n",
    "plt.plot(epochs, val_loss, 'b', label='Validation Loss',marker = \"o\")\n",
    "plt.title('Training and validation Loss')\n",
    "plt.xticks(np.arange(0, len(acc), 10))\n",
    "plt.legend(loc=0)\n",
    "#plt.savefig('Multiclass Model .png')\n",
    "plt.figure()\n",
    "plt.show()"
   ]
  },
  {
   "cell_type": "code",
   "execution_count": null,
   "id": "bc73f111",
   "metadata": {
    "ExecuteTime": {
     "end_time": "2022-10-20T08:31:07.986434Z",
     "start_time": "2022-10-20T08:31:07.986429Z"
    },
    "run_control": {
     "marked": false
    }
   },
   "outputs": [],
   "source": [
    "print(model.evaluate(test_data,test_target))"
   ]
  },
  {
   "cell_type": "code",
   "execution_count": null,
   "id": "b5ca6f6a",
   "metadata": {
    "ExecuteTime": {
     "end_time": "2022-10-20T08:31:07.987466Z",
     "start_time": "2022-10-20T08:31:07.987456Z"
    },
    "run_control": {
     "marked": false
    },
    "scrolled": true
   },
   "outputs": [],
   "source": [
    "model.save(\"covid.h5\")"
   ]
  },
  {
   "cell_type": "markdown",
   "id": "e1c03f7f",
   "metadata": {},
   "source": [
    "## Model Validation\n",
    "### Confusion matrix , Precision, Recall, F1 Score, ROC Curve  "
   ]
  },
  {
   "cell_type": "code",
   "execution_count": null,
   "id": "a673012f",
   "metadata": {
    "ExecuteTime": {
     "end_time": "2022-10-20T08:31:07.988158Z",
     "start_time": "2022-10-20T08:31:07.988152Z"
    },
    "run_control": {
     "marked": false
    }
   },
   "outputs": [],
   "source": [
    "from sklearn.metrics import accuracy_score, confusion_matrix, classification_report\n",
    "accuracy_score(test_data,test_target)\n"
   ]
  },
  {
   "cell_type": "code",
   "execution_count": null,
   "id": "3a188dbf",
   "metadata": {
    "ExecuteTime": {
     "end_time": "2022-10-20T08:31:07.989955Z",
     "start_time": "2022-10-20T08:31:07.989950Z"
    },
    "run_control": {
     "marked": false
    }
   },
   "outputs": [],
   "source": [
    "from sklearn.metrics import confusion_matrix\n",
    "confusion_matrix(actual,predict)"
   ]
  },
  {
   "cell_type": "code",
   "execution_count": null,
   "id": "e83c5f9f",
   "metadata": {
    "ExecuteTime": {
     "end_time": "2022-10-20T08:31:07.991957Z",
     "start_time": "2022-10-20T08:31:07.991950Z"
    },
    "run_control": {
     "marked": false
    }
   },
   "outputs": [],
   "source": [
    "from sklearn.metrics import classification_report\n",
    "import pandas as pd\n",
    "report = pd.DataFrame(classification_report(actual,predicted,output_dict =True))"
   ]
  },
  {
   "cell_type": "code",
   "execution_count": null,
   "id": "aef52cdd",
   "metadata": {
    "ExecuteTime": {
     "end_time": "2022-10-20T08:31:07.994310Z",
     "start_time": "2022-10-20T08:31:07.994298Z"
    },
    "run_control": {
     "marked": false
    }
   },
   "outputs": [],
   "source": [
    "import seaborn as sns\n",
    "sns.pairplot(data,hue=\"\") #hue = required label for draf"
   ]
  },
  {
   "cell_type": "code",
   "execution_count": null,
   "id": "aa5b4334",
   "metadata": {
    "ExecuteTime": {
     "end_time": "2022-10-20T08:31:08.019656Z",
     "start_time": "2022-10-20T08:31:08.019628Z"
    },
    "run_control": {
     "marked": false
    }
   },
   "outputs": [],
   "source": [
    "sns.countplot(x=\"\",data=report) #counplot x = x axis values"
   ]
  },
  {
   "cell_type": "code",
   "execution_count": null,
   "id": "d02091b7",
   "metadata": {},
   "outputs": [],
   "source": []
  }
 ],
 "metadata": {
  "gist": {
   "data": {
    "description": "Desktop/Independent Study/FINAL CUT/Covid-19-Identification-with-Chest-X-Ray/covid19-notebook.ipynb",
    "public": false
   },
   "id": ""
  },
  "hide_input": false,
  "kernelspec": {
   "display_name": "Python 3 (ipykernel)",
   "language": "python",
   "name": "python3"
  },
  "language_info": {
   "codemirror_mode": {
    "name": "ipython",
    "version": 3
   },
   "file_extension": ".py",
   "mimetype": "text/x-python",
   "name": "python",
   "nbconvert_exporter": "python",
   "pygments_lexer": "ipython3",
   "version": "3.9.13"
  },
  "nbTranslate": {
   "displayLangs": [
    "*"
   ],
   "hotkey": "alt-t",
   "langInMainMenu": true,
   "sourceLang": "en",
   "targetLang": "fr",
   "useGoogleTranslate": true
  },
  "toc": {
   "base_numbering": 1,
   "nav_menu": {},
   "number_sections": true,
   "sideBar": true,
   "skip_h1_title": false,
   "title_cell": "Table of Contents",
   "title_sidebar": "Contents",
   "toc_cell": false,
   "toc_position": {},
   "toc_section_display": true,
   "toc_window_display": true
  },
  "varInspector": {
   "cols": {
    "lenName": 16,
    "lenType": 16,
    "lenVar": 40
   },
   "kernels_config": {
    "python": {
     "delete_cmd_postfix": "",
     "delete_cmd_prefix": "del ",
     "library": "var_list.py",
     "varRefreshCmd": "print(var_dic_list())"
    },
    "r": {
     "delete_cmd_postfix": ") ",
     "delete_cmd_prefix": "rm(",
     "library": "var_list.r",
     "varRefreshCmd": "cat(var_dic_list()) "
    }
   },
   "types_to_exclude": [
    "module",
    "function",
    "builtin_function_or_method",
    "instance",
    "_Feature"
   ],
   "window_display": false
  }
 },
 "nbformat": 4,
 "nbformat_minor": 5
}
